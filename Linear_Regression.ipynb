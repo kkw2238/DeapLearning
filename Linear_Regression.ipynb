{
  "nbformat": 4,
  "nbformat_minor": 0,
  "metadata": {
    "colab": {
      "name": "Linear Regression.ipynb",
      "version": "0.3.2",
      "provenance": [],
      "include_colab_link": true
    },
    "kernelspec": {
      "name": "python3",
      "display_name": "Python 3"
    }
  },
  "cells": [
    {
      "cell_type": "markdown",
      "metadata": {
        "id": "view-in-github",
        "colab_type": "text"
      },
      "source": [
        "<a href=\"https://colab.research.google.com/github/kkw2238/DeapLearning/blob/master/Linear_Regression.ipynb\" target=\"_parent\"><img src=\"https://colab.research.google.com/assets/colab-badge.svg\" alt=\"Open In Colab\"/></a>"
      ]
    },
    {
      "cell_type": "code",
      "metadata": {
        "id": "4nQ4e8lxcqDT",
        "colab_type": "code",
        "outputId": "336364c2-2130-4765-bad0-6b91356aa6a8",
        "colab": {
          "base_uri": "https://localhost:8080/",
          "height": 395
        }
      },
      "source": [
        "import tensorflow as tf\n",
        "\n",
        "\"\"\"\n",
        "  Linear Regression 실습 \n",
        "  H(x) = Wx + b\n",
        "\"\"\"\n",
        "\n",
        "sess = tf.Session()\n",
        "\n",
        "# 1. 그래프 생성\n",
        "\n",
        "# X 와 Y 데이터\n",
        "x_train = [1, 2, 3]\n",
        "y_train = [1, 2, 3]\n",
        "\n",
        "# Variable = tensorflow가 자체적으로 변경 시키는 값\n",
        "# tf.random_normal([차원]) \n",
        "W = tf.Variable(tf.random_normal([1]), name = 'weight')\n",
        "b = tf.Variable(tf.random_normal([1]), name = 'bias')\n",
        "\n",
        "hypothesis = x_train * W + b\n",
        "\n",
        "# cost( W, b ) \n",
        "# reduce_mean = 입력된 데이터들에 대한 평균을 내주는 함수\n",
        "cost = tf.reduce_mean(tf.square(hypothesis - y_train))\n",
        "\n",
        "# Cost를 최소화\n",
        "optimizer = tf.train.GradientDescentOptimizer(learning_rate = 0.01)\n",
        "train = optimizer.minimize(cost)\n",
        "\n",
        "# 2. 그래프 실행 및 업데이트 & 데이터 출력\n",
        "sess.run(tf.global_variables_initializer())\n",
        "\n",
        "for step in range(2001) :\n",
        "  sess.run(train)\n",
        "  if step % 100 == 0:\n",
        "    print(\"[ \" + str(step) + \" ] \" + '번째 시도 \\t 비용 : ' + str(sess.run(cost)) + '\\t W : ' + str(sess.run(W)) + ' \\t b : ' + str(sess.run(b)))"
      ],
      "execution_count": 0,
      "outputs": [
        {
          "output_type": "stream",
          "text": [
            "[ 0 ] 번째 시도 \t 비용 : 17.382868\t W : [-0.52394986] \t b : [-0.93136966]\n",
            "[ 100 ] 번째 시도 \t 비용 : 0.004238686\t W : [1.075603] \t b : [-0.17189752]\n",
            "[ 200 ] 번째 시도 \t 비용 : 0.0026192507\t W : [1.0594407] \t b : [-0.13512276]\n",
            "[ 300 ] 번째 시도 \t 비용 : 0.0016185291\t W : [1.0467257] \t b : [-0.10621872]\n",
            "[ 400 ] 번째 시도 \t 비용 : 0.001000154\t W : [1.0367308] \t b : [-0.08349752]\n",
            "[ 500 ] 번째 시도 \t 비용 : 0.0006180351\t W : [1.0288737] \t b : [-0.06563669]\n",
            "[ 600 ] 번째 시도 \t 비용 : 0.0003819045\t W : [1.0226973] \t b : [-0.05159634]\n",
            "[ 700 ] 번째 시도 \t 비용 : 0.00023599375\t W : [1.0178419] \t b : [-0.04055915]\n",
            "[ 800 ] 번째 시도 \t 비용 : 0.00014582818\t W : [1.0140254] \t b : [-0.03188308]\n",
            "[ 900 ] 번째 시도 \t 비용 : 9.011177e-05\t W : [1.0110253] \t b : [-0.02506299]\n",
            "[ 1000 ] 번째 시도 \t 비용 : 5.5683322e-05\t W : [1.0086669] \t b : [-0.01970185]\n",
            "[ 1100 ] 번째 시도 \t 비용 : 3.441e-05\t W : [1.006813] \t b : [-0.01548747]\n",
            "[ 1200 ] 번째 시도 \t 비용 : 2.12628e-05\t W : [1.0053556] \t b : [-0.01217454]\n",
            "[ 1300 ] 번째 시도 \t 비용 : 1.3139967e-05\t W : [1.0042101] \t b : [-0.0095704]\n",
            "[ 1400 ] 번째 시도 \t 비용 : 8.119917e-06\t W : [1.0033096] \t b : [-0.00752339]\n",
            "[ 1500 ] 번째 시도 \t 비용 : 5.0177664e-06\t W : [1.0026016] \t b : [-0.00591419]\n",
            "[ 1600 ] 번째 시도 \t 비용 : 3.1009467e-06\t W : [1.0020453] \t b : [-0.00464929]\n",
            "[ 1700 ] 번째 시도 \t 비용 : 1.9165345e-06\t W : [1.0016079] \t b : [-0.00365504]\n",
            "[ 1800 ] 번째 시도 \t 비용 : 1.1844298e-06\t W : [1.001264] \t b : [-0.00287347]\n",
            "[ 1900 ] 번째 시도 \t 비용 : 7.3228324e-07\t W : [1.0009941] \t b : [-0.0022593]\n",
            "[ 2000 ] 번째 시도 \t 비용 : 4.5285628e-07\t W : [1.0007817] \t b : [-0.00177652]\n"
          ],
          "name": "stdout"
        }
      ]
    }
  ]
}