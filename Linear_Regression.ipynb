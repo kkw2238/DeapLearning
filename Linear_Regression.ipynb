{
  "nbformat": 4,
  "nbformat_minor": 0,
  "metadata": {
    "colab": {
      "name": "Linear Regression.ipynb",
      "version": "0.3.2",
      "provenance": [],
      "collapsed_sections": [],
      "include_colab_link": true
    },
    "kernelspec": {
      "name": "python3",
      "display_name": "Python 3"
    }
  },
  "cells": [
    {
      "cell_type": "markdown",
      "metadata": {
        "id": "view-in-github",
        "colab_type": "text"
      },
      "source": [
        "<a href=\"https://colab.research.google.com/github/kkw2238/DeapLearning/blob/master/Linear_Regression.ipynb\" target=\"_parent\"><img src=\"https://colab.research.google.com/assets/colab-badge.svg\" alt=\"Open In Colab\"/></a>"
      ]
    },
    {
      "cell_type": "code",
      "metadata": {
        "id": "4nQ4e8lxcqDT",
        "colab_type": "code",
        "outputId": "445ed156-70ec-4fb1-ee12-7b0b679d3637",
        "colab": {
          "base_uri": "https://localhost:8080/",
          "height": 395
        }
      },
      "source": [
        "import tensorflow as tf\n",
        "\n",
        "\"\"\"\n",
        "  Linear Regression 실습 \n",
        "  H(x) = Wx + b\n",
        "\"\"\"\n",
        "\n",
        "sess = tf.Session()\n",
        "\n",
        "# 1. 그래프 생성\n",
        "\n",
        "X = tf.placeholder(tf.float32)\n",
        "Y = tf.placeholder(tf.float32)\n",
        "\n",
        "# Variable = tensorflow가 자체적으로 변경 시키는 값\n",
        "# tf.random_normal([차원]) \n",
        "W = tf.Variable(tf.random_normal([1]), name = 'weight')\n",
        "b = tf.Variable(tf.random_normal([1]), name = 'bias')\n",
        "\n",
        "hypothesis = X * W + b\n",
        "\n",
        "# cost( W, b ) \n",
        "# reduce_mean = 입력된 데이터들에 대한 평균을 내주는 함수\n",
        "cost = tf.reduce_mean(tf.square(hypothesis - Y))\n",
        "\n",
        "# Cost를 최소화\n",
        "optimizer = tf.train.GradientDescentOptimizer(learning_rate = 0.01)\n",
        "train = optimizer.minimize(cost)\n",
        "\n",
        "# 2. 그래프 실행 및 업데이트 & 데이터 출력\n",
        "sess.run(tf.global_variables_initializer())\n",
        "\n",
        "for step in range(2001) :\n",
        "  cost_val, W_val, b_Val, _ = \\\n",
        "  sess.run([ cost, W, b, train],\n",
        "          feed_dict={X : [1, 2, 3], Y : [1, 2, 3]})\n",
        "  \n",
        "  if step % 100 == 0:\n",
        "    print(\"[ \" + str(step) + \" ] \" + '번째 시도 \\t 비용 :  ' +  \n",
        "          str(cost_val) + '\\t W : ' + str(W_val) + '  \\t b : ' + str(b_Val))"
      ],
      "execution_count": 10,
      "outputs": [
        {
          "output_type": "stream",
          "text": [
            "[ 0 ] 번째 시도 \t 비용 :  17.297081\t W : [-1.1646966]  \t b : [1.0685513]\n",
            "[ 100 ] 번째 시도 \t 비용 :  0.2553582\t W : [0.4144907]  \t b : [1.33097]\n",
            "[ 200 ] 번째 시도 \t 비용 :  0.15779586\t W : [0.5397449]  \t b : [1.0462679]\n",
            "[ 300 ] 번째 시도 \t 비용 :  0.09750833\t W : [0.63819754]  \t b : [0.82246196]\n",
            "[ 400 ] 번째 시도 \t 비용 :  0.06025423\t W : [0.7155903]  \t b : [0.64653015]\n",
            "[ 500 ] 번째 시도 \t 비용 :  0.0372335\t W : [0.7764279]  \t b : [0.5082319]\n",
            "[ 600 ] 번째 시도 \t 비용 :  0.02300804\t W : [0.82425195]  \t b : [0.39951652]\n",
            "[ 700 ] 번째 시도 \t 비용 :  0.014217566\t W : [0.8618461]  \t b : [0.31405637]\n",
            "[ 800 ] 번째 시도 \t 비용 :  0.008785603\t W : [0.8913984]  \t b : [0.246877]\n",
            "[ 900 ] 번째 시도 \t 비용 :  0.005428957\t W : [0.9146292]  \t b : [0.19406779]\n",
            "[ 1000 ] 번째 시도 \t 비용 :  0.0033547792\t W : [0.9328907]  \t b : [0.1525551]\n",
            "[ 1100 ] 번째 시도 \t 비용 :  0.0020730423\t W : [0.9472461]  \t b : [0.11992212]\n",
            "[ 1200 ] 번째 시도 \t 비용 :  0.001281015\t W : [0.9585306]  \t b : [0.09426978]\n",
            "[ 1300 ] 번째 시도 \t 비용 :  0.00079159095\t W : [0.96740127]  \t b : [0.07410456]\n",
            "[ 1400 ] 번째 시도 \t 비용 :  0.0004891572\t W : [0.9743744]  \t b : [0.05825296]\n",
            "[ 1500 ] 번째 시도 \t 비용 :  0.00030227035\t W : [0.9798559]  \t b : [0.04579223]\n",
            "[ 1600 ] 번째 시도 \t 비용 :  0.00018678421\t W : [0.9841649]  \t b : [0.03599679]\n",
            "[ 1700 ] 번째 시도 \t 비용 :  0.000115420895\t W : [0.98755217]  \t b : [0.02829675]\n",
            "[ 1800 ] 번째 시도 \t 비용 :  7.132303e-05\t W : [0.9902149]  \t b : [0.022244]\n",
            "[ 1900 ] 번째 시도 \t 비용 :  4.4074037e-05\t W : [0.992308]  \t b : [0.01748573]\n",
            "[ 2000 ] 번째 시도 \t 비용 :  2.7235552e-05\t W : [0.9939534]  \t b : [0.01374539]\n"
          ],
          "name": "stdout"
        }
      ]
    }
  ]
}