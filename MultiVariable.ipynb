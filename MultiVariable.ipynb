{
  "nbformat": 4,
  "nbformat_minor": 0,
  "metadata": {
    "colab": {
      "name": "MultiVariable.ipynb",
      "version": "0.3.2",
      "provenance": [],
      "include_colab_link": true
    },
    "kernelspec": {
      "name": "python3",
      "display_name": "Python 3"
    }
  },
  "cells": [
    {
      "cell_type": "markdown",
      "metadata": {
        "id": "view-in-github",
        "colab_type": "text"
      },
      "source": [
        "<a href=\"https://colab.research.google.com/github/kkw2238/DeapLearning/blob/master/MultiVariable.ipynb\" target=\"_parent\"><img src=\"https://colab.research.google.com/assets/colab-badge.svg\" alt=\"Open In Colab\"/></a>"
      ]
    },
    {
      "cell_type": "code",
      "metadata": {
        "id": "4nQ4e8lxcqDT",
        "colab_type": "code",
        "outputId": "d4cb168c-43bf-47e9-c914-a28f07c1dde6",
        "colab": {
          "base_uri": "https://localhost:8080/",
          "height": 395
        }
      },
      "source": [
        "import tensorflow as tf\n",
        "\n",
        "\"\"\"\n",
        "  Multi-variable linear regression 실습\n",
        "\"\"\"\n",
        "\n",
        "# None-Matrix\n",
        "\"\"\"\n",
        "# Multi-variable\n",
        "x1_data = [73., 93., 89., 96., 73.]\n",
        "x2_data = [80., 88., 91., 98., 66.]\n",
        "x3_data = [75., 93., 90., 100., 70.]\n",
        "y_data = [152., 185., 180., 196., 142.]\n",
        "\n",
        "x1 = tf.placeholder(tf.float32)\n",
        "x2 = tf.placeholder(tf.float32)\n",
        "x3 = tf.placeholder(tf.float32)\n",
        "Y = tf.placeholder(tf.float32)\n",
        "\n",
        "w1 = tf.Variable(tf.random_normal([1]), name = ('weight1'))\n",
        "w2 = tf.Variable(tf.random_normal([1]), name = ('weight2'))\n",
        "w3 = tf.Variable(tf.random_normal([1]), name = ('weight3'))\n",
        "b = tf.Variable(tf.random_normal([1]), name = 'bias')\n",
        "\n",
        "hypothesis = x1 * w1 + x2 * w2 + x3 * w3 + b \n",
        "\n",
        "cost = tf.reduce_mean(tf.square(hypothesis - Y))\n",
        "optimizer = tf.train.GradientDescentOptimizer(learning_rate = 1e-5)\n",
        "train = optimizer.minimize(cost)\n",
        "\n",
        "sess = tf.Session()\n",
        "sess.run(tf.global_variables_initializer())\n",
        "for step in range(2001) :\n",
        "  cost_val, hy_val, _ = sess.run([cost, hypothesis, train], \n",
        "                                 feed_dict = {x1: x1_data, \n",
        "                                              x2: x2_data, \n",
        "                                              x3: x3_data, \n",
        "                                              Y: y_data})\n",
        "\"\"\"\n",
        "\n",
        "# Matrix\n",
        "x_data = [[73., 80., 75.],  [93., 88., 93.], [89., 91., 90.], \n",
        "         [96., 98., 100.], [73., 66., 70.]]\n",
        "\n",
        "\n",
        "y_data = [[152.], [185.], [180.], [196.], [142.]]\n",
        "\n",
        "# shape [ 총 배열 갯수 ( None = N개 ), 배열 속 원소 갯수 ]\n",
        "X = tf.placeholder(tf.float32, shape = [None, 3])\n",
        "Y = tf.placeholder(tf.float32, shape = [None, 1])\n",
        "\n",
        "W = tf.Variable(tf.random_normal([3, 1]), name = 'weight')\n",
        "b = tf.Variable(tf.random_normal([1]), name = 'bias')\n",
        "\n",
        "# matmul : 행렬 곱셈, H(X) = XW\n",
        "hypothesis = tf.matmul(X, W) + b \n",
        "\n",
        "cost = tf.reduce_mean(tf.square(hypothesis - Y))\n",
        "optimizer = tf.train.GradientDescentOptimizer(learning_rate = 1e-5)\n",
        "train = optimizer.minimize(cost)\n",
        "\n",
        "sess = tf.Session()\n",
        "sess.run(tf.global_variables_initializer())\n",
        "for step in range(2001) :\n",
        "  cost_val, hy_val, _ = sess.run([cost, hypothesis, train], \n",
        "                                 feed_dict = {X: x_data, \n",
        "                                              Y: y_data})\n",
        "  \n",
        "  if step % 1000 == 0:\n",
        "    print(\"트레이닝 횟수 : \", step, \n",
        "          \"\\tCost : \", cost_val, \n",
        "          \"\\nPrediction : \\n\", hy_val)\n",
        "\n"
      ],
      "execution_count": 36,
      "outputs": [
        {
          "output_type": "stream",
          "text": [
            "트레이닝 횟수 :  0 \tCost :  15699.122 \n",
            "Prediction : \n",
            " [[42.56496 ]\n",
            " [49.528774]\n",
            " [49.69297 ]\n",
            " [52.980217]\n",
            " [38.40198 ]]\n",
            "트레이닝 횟수 :  1000 \tCost :  1.3752377 \n",
            "Prediction : \n",
            " [[153.23892]\n",
            " [183.48149]\n",
            " [181.1941 ]\n",
            " [196.24312]\n",
            " [140.75485]]\n",
            "트레이닝 횟수 :  2000 \tCost :  0.8704546 \n",
            "Prediction : \n",
            " [[152.86198]\n",
            " [183.73932]\n",
            " [181.07785]\n",
            " [196.16478]\n",
            " [141.0884 ]]\n"
          ],
          "name": "stdout"
        }
      ]
    }
  ]
}