{
  "nbformat": 4,
  "nbformat_minor": 0,
  "metadata": {
    "colab": {
      "name": "GradientDescent.ipynb",
      "version": "0.3.2",
      "provenance": [],
      "include_colab_link": true
    },
    "kernelspec": {
      "name": "python3",
      "display_name": "Python 3"
    }
  },
  "cells": [
    {
      "cell_type": "markdown",
      "metadata": {
        "id": "view-in-github",
        "colab_type": "text"
      },
      "source": [
        "<a href=\"https://colab.research.google.com/github/kkw2238/DeapLearning/blob/master/GradientDescent.ipynb\" target=\"_parent\"><img src=\"https://colab.research.google.com/assets/colab-badge.svg\" alt=\"Open In Colab\"/></a>"
      ]
    },
    {
      "cell_type": "code",
      "metadata": {
        "id": "4nQ4e8lxcqDT",
        "colab_type": "code",
        "outputId": "b3ef3bb3-8d76-4046-9cf9-79a39b7b3de3",
        "colab": {
          "base_uri": "https://localhost:8080/",
          "height": 395
        }
      },
      "source": [
        "import tensorflow as tf\n",
        "import matplotlib.pyplot as plt\n",
        "\n",
        "\"\"\"\n",
        "  Descent와 W의 관계 실습\n",
        "\"\"\"\n",
        "\n",
        "x_data = [1, 2, 3]\n",
        "y_data = [1, 2, 3]\n",
        "\n",
        "#W = tf.Variable(tf.random_normal([1]), name = 'weight')\n",
        "W = tf.Variable(0.)\n",
        "X = tf.placeholder(tf.float32)\n",
        "Y = tf.placeholder(tf.float32)\n",
        "gradVal = tf.Variable(0.)\n",
        "\n",
        "hypothesis = X * W\n",
        "\n",
        "cost = tf.reduce_sum(tf.square(hypothesis - Y))\n",
        "\n",
        "# Gradient함수에서의 알파 값\n",
        "learning_rate = 0.1\n",
        "# 평균 값 계산\n",
        "gradient = tf.reduce_mean((W * X - Y) * X)\n",
        "# Descent 값 계산\n",
        "descent = W - learning_rate * gradient\n",
        "\n",
        "#assign : 값 대입\n",
        "update = W.assign(descent)\n",
        "updategradVal = gradVal.assign(gradient)\n",
        "\n",
        "sess = tf.Session()\n",
        "\n",
        "sess.run(tf.global_variables_initializer())\n",
        "\n",
        "for step in range(21):\n",
        "  sess.run(update, feed_dict = {X : x_data, Y : y_data})\n",
        "  sess.run(updategradVal, feed_dict = {X : x_data, Y : y_data})\n",
        "  \n",
        "  print('횟수 : ', step, \n",
        "        '\\t W : ', sess.run(W), \n",
        "        '\\t gradient  : ', sess.run(gradVal))"
      ],
      "execution_count": 23,
      "outputs": [
        {
          "output_type": "stream",
          "text": [
            "횟수 :  0 \t W :  0.46666667 \t gradient  :  -2.488889\n",
            "횟수 :  1 \t W :  0.71555555 \t gradient  :  -1.3274075\n",
            "횟수 :  2 \t W :  0.8482963 \t gradient  :  -0.7079506\n",
            "횟수 :  3 \t W :  0.91909134 \t gradient  :  -0.3775736\n",
            "횟수 :  4 \t W :  0.9568487 \t gradient  :  -0.20137276\n",
            "횟수 :  5 \t W :  0.97698593 \t gradient  :  -0.10739899\n",
            "횟수 :  6 \t W :  0.98772585 \t gradient  :  -0.05727923\n",
            "횟수 :  7 \t W :  0.9934538 \t gradient  :  -0.03054887\n",
            "횟수 :  8 \t W :  0.9965087 \t gradient  :  -0.016292533\n",
            "횟수 :  9 \t W :  0.99813795 \t gradient  :  -0.008689563\n",
            "횟수 :  10 \t W :  0.9990069 \t gradient  :  -0.0046344004\n",
            "횟수 :  11 \t W :  0.99947035 \t gradient  :  -0.0024715662\n",
            "횟수 :  12 \t W :  0.99971753 \t gradient  :  -0.001318117\n",
            "횟수 :  13 \t W :  0.9998493 \t gradient  :  -0.00070317584\n",
            "횟수 :  14 \t W :  0.99991965 \t gradient  :  -0.00037495294\n",
            "횟수 :  15 \t W :  0.99995714 \t gradient  :  -0.00019993384\n",
            "횟수 :  16 \t W :  0.9999771 \t gradient  :  -0.00010681152\n",
            "횟수 :  17 \t W :  0.9999878 \t gradient  :  -5.7081383e-05\n",
            "횟수 :  18 \t W :  0.9999935 \t gradient  :  -3.03785e-05\n",
            "횟수 :  19 \t W :  0.99999654 \t gradient  :  -1.62522e-05\n",
            "횟수 :  20 \t W :  0.99999815 \t gradient  :  -8.563201e-06\n"
          ],
          "name": "stdout"
        }
      ]
    }
  ]
}